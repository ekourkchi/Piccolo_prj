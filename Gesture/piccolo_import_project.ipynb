{
 "cells": [
  {
   "cell_type": "markdown",
   "id": "5de141c6-f78c-41e3-a613-a068a6263759",
   "metadata": {},
   "source": [
    "## Import Pakcages\n",
    "\n",
    "**Note:** In this notebook, you need to use the `python_client` in the `piccolo` folder you have donwloaded from Github, where you are running the *piccolo server* locally. \n",
    "\n",
    "- Import packaged in the order presented in this notebook.\n",
    "- Replace `<path_to_piccolo_folder>` with a valid path to the local piccolo folder."
   ]
  },
  {
   "cell_type": "code",
   "execution_count": 1,
   "id": "19c344a6-0a73-458c-80e9-9a7c9c29262d",
   "metadata": {},
   "outputs": [],
   "source": [
    "import sys, os, time\n",
    "sys.path.insert(0, \"<path_to_piccolo_folder>/src/python_client\")"
   ]
  },
  {
   "cell_type": "code",
   "execution_count": 2,
   "id": "9da9c34e-5ce4-4c2e-b257-d8bd2d7ea1b0",
   "metadata": {},
   "outputs": [
    {
     "data": {
      "text/html": [
       "<style>.container { width:90% !important; }</style>"
      ],
      "text/plain": [
       "<IPython.core.display.HTML object>"
      ]
     },
     "metadata": {},
     "output_type": "display_data"
    }
   ],
   "source": [
    "import warnings\n",
    "warnings.filterwarnings('ignore')\n",
    "import credentials as crd\n",
    "from sensiml import *"
   ]
  },
  {
   "cell_type": "markdown",
   "id": "30b20b45-7eb1-4156-921c-8998018f9ad2",
   "metadata": {},
   "source": [
    "## Conenct to Piccolo\n",
    "\n",
    "- Use the local URL to connect to the server you are running.\n",
    "- Do not remove '/' at the URL address.\n",
    "- The local connection uses an insecure protocol, therefore set `insecure=True`."
   ]
  },
  {
   "cell_type": "code",
   "execution_count": 3,
   "id": "97635811-bbff-4c5e-b3f4-bb60ec25ec2f",
   "metadata": {},
   "outputs": [
    {
     "name": "stderr",
     "output_type": "stream",
     "text": [
      "You have chosen to disable certificate verification. Your connection is not secure!\n"
     ]
    }
   ],
   "source": [
    "client = SensiML(server=\"http://localhost:8000/\", \n",
    "                       username=crd.piccolo_user,\n",
    "                       password=crd.piccolo_pwd,\n",
    "                       insecure=True)"
   ]
  },
  {
   "cell_type": "markdown",
   "id": "295cd356-a41c-405e-8460-bb0acd8425ba",
   "metadata": {},
   "source": [
    "## List Projects\n",
    "\n",
    "All project stored in the local Piccolo database."
   ]
  },
  {
   "cell_type": "code",
   "execution_count": 4,
   "id": "bb002b48-355e-40e6-907c-e971b4372c26",
   "metadata": {},
   "outputs": [
    {
     "data": {
      "text/html": [
       "<div>\n",
       "<style scoped>\n",
       "    .dataframe tbody tr th:only-of-type {\n",
       "        vertical-align: middle;\n",
       "    }\n",
       "\n",
       "    .dataframe tbody tr th {\n",
       "        vertical-align: top;\n",
       "    }\n",
       "\n",
       "    .dataframe thead th {\n",
       "        text-align: right;\n",
       "    }\n",
       "</style>\n",
       "<table border=\"1\" class=\"dataframe\">\n",
       "  <thead>\n",
       "    <tr style=\"text-align: right;\">\n",
       "      <th></th>\n",
       "      <th>Name</th>\n",
       "      <th>Last Modified</th>\n",
       "      <th>Created</th>\n",
       "      <th>UUID</th>\n",
       "    </tr>\n",
       "  </thead>\n",
       "  <tbody>\n",
       "    <tr>\n",
       "      <th>0</th>\n",
       "      <td>MyProject-WB</td>\n",
       "      <td>2025-03-08 18:59:09.200</td>\n",
       "      <td>2025-03-08 18:59:09.200</td>\n",
       "      <td>66776c24-fb34-4696-b624-02c5205a83e4</td>\n",
       "    </tr>\n",
       "  </tbody>\n",
       "</table>\n",
       "</div>"
      ],
      "text/plain": [
       "           Name           Last Modified                 Created  \\\n",
       "0  MyProject-WB 2025-03-08 18:59:09.200 2025-03-08 18:59:09.200   \n",
       "\n",
       "                                   UUID  \n",
       "0  66776c24-fb34-4696-b624-02c5205a83e4  "
      ]
     },
     "execution_count": 4,
     "metadata": {},
     "output_type": "execute_result"
    }
   ],
   "source": [
    "client.list_projects()"
   ]
  },
  {
   "cell_type": "markdown",
   "id": "2d218198-a9a3-4c73-974e-a8436e15d61c",
   "metadata": {},
   "source": [
    "## Upload a Project"
   ]
  },
  {
   "cell_type": "markdown",
   "id": "89da10f9-3223-4a2e-a6ef-c50a54e3471f",
   "metadata": {},
   "source": [
    "**Signature:** `client.upload_project_dcli(name: str, dcli_path: str, force: bool = False)`\n",
    "\n",
    "Upload a `.dcli` project to the server\n",
    "\n",
    "**Args:**\n",
    "\n",
    "-    `name` (str): name of the project to create\n",
    "-    `dcli_path` (str): path to the .dclproj file\n",
    "-    `force` (bool): attempt to upload to an existing project\n"
   ]
  },
  {
   "cell_type": "code",
   "execution_count": 5,
   "id": "05759c08-d1c1-4cc7-acce-d77ffc450c79",
   "metadata": {},
   "outputs": [
    {
     "name": "stdout",
     "output_type": "stream",
     "text": [
      "Project WB_Gesture_uploaded does not exist, creating a new project.\n",
      "Uploading Capture 0/29: 10_X_all_1 - 10_X_all.csv\n",
      "Segmenter Uploaded.\n",
      "Uploading Capture 1/29: 10_O_all_3 - 10_O_all_3.csv\n",
      "Uploading Capture 2/29: X_6_accel_all - X_6.csv\n",
      "Uploading Capture 3/29: 10_O_all_2 - 10_O_all_2.csv\n",
      "Uploading Capture 4/29: 10_random_all_1 - 10_random_all_1.csv\n",
      "Uploading Capture 5/29: X_2_accel_all - X_2.csv\n",
      "Uploading Capture 6/29: 10_random_all_2 - 10_random_all_2.csv\n",
      "Uploading Capture 7/29: O_1_accel_all - O_1.csv\n",
      "Uploading Capture 8/29: O_9_accel_all - O_9.csv\n",
      "Uploading Capture 9/29: 10_random_all_3 - 10_random_all_3.csv\n",
      "Uploading Capture 10/29: X_5_accel_all - X_5.csv\n",
      "Uploading Capture 11/29: X_9_accel_all - X_9.csv\n",
      "Uploading Capture 12/29: 10_X_all_2 - 10_X_all_2.csv\n",
      "Uploading Capture 13/29: X_10_accel_all - X_10.csv\n",
      "Uploading Capture 14/29: X_4_accel_all - X_4.csv\n",
      "Uploading Capture 15/29: O_4_accel_all - O_4.csv\n",
      "Uploading Capture 16/29: O_10_accel_all - O_10.csv\n",
      "Uploading Capture 17/29: O_5_accel_all - O_5.csv\n",
      "Uploading Capture 18/29: 10_X_all_3 - 10_X_all_3.csv\n",
      "Uploading Capture 19/29: X_3_accel_all - X_3.csv\n",
      "Uploading Capture 20/29: O_8_access_all - O_8.csv\n",
      "Uploading Capture 21/29: 10_O_all_1 - 10_O_all_1.csv\n",
      "Uploading Capture 22/29: X_8_accel_all - X_8.csv\n",
      "Uploading Capture 23/29: O_7_accel_all - O_7.csv\n",
      "Uploading Capture 24/29: O_2_accel_all - O_2.csv\n",
      "Uploading Capture 25/29: X_7_accel_all - X_7.csv\n",
      "Uploading Capture 26/29: X_1_accel_all - X_1.csv\n",
      "Uploading Capture 27/29: O_6_accel_all - O_6.csv\n",
      "Uploading Capture 28/29: O_3_accel_all - O_3.csv\n"
     ]
    }
   ],
   "source": [
    "client.upload_project_dcli(\"WB_Gesture_uploaded\", \"WB_gesture_data/WB_Gesture.dcli\", force=True)"
   ]
  },
  {
   "cell_type": "code",
   "execution_count": null,
   "id": "59ad6331-c3e1-42a0-8257-e4f1b1c7a00e",
   "metadata": {},
   "outputs": [],
   "source": []
  },
  {
   "cell_type": "code",
   "execution_count": null,
   "id": "aabef5f1-91e2-4516-8ed7-ac00f9eddbb7",
   "metadata": {},
   "outputs": [],
   "source": []
  }
 ],
 "metadata": {
  "kernelspec": {
   "display_name": "Python 3 (ipykernel)",
   "language": "python",
   "name": "python3"
  },
  "language_info": {
   "codemirror_mode": {
    "name": "ipython",
    "version": 3
   },
   "file_extension": ".py",
   "mimetype": "text/x-python",
   "name": "python",
   "nbconvert_exporter": "python",
   "pygments_lexer": "ipython3",
   "version": "3.12.4"
  }
 },
 "nbformat": 4,
 "nbformat_minor": 5
}
